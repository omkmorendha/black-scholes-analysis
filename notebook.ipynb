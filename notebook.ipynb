{
 "cells": [
  {
   "cell_type": "markdown",
   "metadata": {},
   "source": [
    "# Import Libraries"
   ]
  },
  {
   "cell_type": "code",
   "execution_count": 9,
   "metadata": {},
   "outputs": [],
   "source": [
    "import numpy as np\n",
    "from scipy.stats import norm\n",
    "import yfinance as yf\n",
    "import pandas as pd\n",
    "import matplotlib.pyplot as plt"
   ]
  },
  {
   "cell_type": "markdown",
   "metadata": {},
   "source": [
    "# Define Black-scholes calculating function\n",
    "\n",
    "According to the following logic:\n",
    "\n",
    "Call option:\n",
    "$$C = S \\cdot N(d_1) - K \\cdot e^{-rT} \\cdot N(d_2)n$$\n",
    "\n",
    "Put option:\n",
    "$$P = K \\cdot e^{-rT} \\cdot N(-d_2) - S \\cdot N(-d_1)$$\n",
    "\n",
    "Where:\n",
    "\n",
    "𝐶 : Call option price \\\n",
    "𝑆 : Current stock price \\\n",
    "𝐾 : Strike price of the option \\\n",
    "𝑇 : Time to maturity (in years) \\\n",
    "𝑟 : Risk-free interest rate (annual) \\\n",
    "𝜎 : Volatility of the underlying stock (annualized standard deviation) \\\n",
    "𝑁(𝑑) : Cumulative distribution function of the standard normal distribution\n",
    "\n",
    "The terms d1 and d2 are defined as:\n",
    "\n",
    "$$ d1 = \\frac{\\ln(S / K) + (r + \\sigma^2 / 2) \\cdot T}{\\sigma \\cdot \\sqrt{T}} $$ \n",
    "$$ d_2 = d_1 - \\sigma \\cdot \\sqrt{T} $$\n"
   ]
  },
  {
   "cell_type": "code",
   "execution_count": 10,
   "metadata": {},
   "outputs": [],
   "source": [
    "def black_scholes_call(S, K, T, r, sigma):\n",
    "    \"\"\"\n",
    "    Calculate the Black-Scholes price for a European call option.\n",
    "    \n",
    "    Parameters:\n",
    "    S (float): Current stock price\n",
    "    K (float): Strike price\n",
    "    T (float): Time to maturity (in years)\n",
    "    r (float): Risk-free interest rate\n",
    "    sigma (float): Volatility of the underlying stock\n",
    "    \n",
    "    Returns:\n",
    "    float: Theoretical call option price\n",
    "    \"\"\"\n",
    "    d1 = (np.log(S / K) + (r + sigma ** 2 / 2) * T) / (sigma * np.sqrt(T))\n",
    "    d2 = d1 - sigma * np.sqrt(T)\n",
    "    call_price = S * norm.cdf(d1) - K * np.exp(-r * T) * norm.cdf(d2)\n",
    "    return call_price\n"
   ]
  },
  {
   "cell_type": "markdown",
   "metadata": {},
   "source": [
    "## Test function on test data"
   ]
  },
  {
   "cell_type": "code",
   "execution_count": 11,
   "metadata": {},
   "outputs": [
    {
     "name": "stdout",
     "output_type": "stream",
     "text": [
      "The Black-Scholes call option price is: 6.04\n"
     ]
    }
   ],
   "source": [
    "S = 100  # Current stock price\n",
    "K = 110  # Strike price\n",
    "T = 1    # Time to maturity in years\n",
    "r = 0.05 # Risk-free interest rate\n",
    "sigma = 0.2  # Volatility of the underlying stock\n",
    "\n",
    "call_price = black_scholes_call(S, K, T, r, sigma)\n",
    "print(f\"The Black-Scholes call option price is: {call_price:.2f}\")\n"
   ]
  },
  {
   "cell_type": "markdown",
   "metadata": {},
   "source": [
    "# Work on live data"
   ]
  },
  {
   "cell_type": "markdown",
   "metadata": {},
   "source": [
    "## Fetch data from Yahoo finance"
   ]
  },
  {
   "cell_type": "code",
   "execution_count": 12,
   "metadata": {},
   "outputs": [
    {
     "name": "stderr",
     "output_type": "stream",
     "text": [
      "[*********************100%***********************]  1 of 1 completed"
     ]
    },
    {
     "name": "stderr",
     "output_type": "stream",
     "text": [
      "\n"
     ]
    },
    {
     "data": {
      "text/html": [
       "<div>\n",
       "<style scoped>\n",
       "    .dataframe tbody tr th:only-of-type {\n",
       "        vertical-align: middle;\n",
       "    }\n",
       "\n",
       "    .dataframe tbody tr th {\n",
       "        vertical-align: top;\n",
       "    }\n",
       "\n",
       "    .dataframe thead th {\n",
       "        text-align: right;\n",
       "    }\n",
       "</style>\n",
       "<table border=\"1\" class=\"dataframe\">\n",
       "  <thead>\n",
       "    <tr style=\"text-align: right;\">\n",
       "      <th></th>\n",
       "      <th>Open</th>\n",
       "      <th>High</th>\n",
       "      <th>Low</th>\n",
       "      <th>Close</th>\n",
       "      <th>Adj Close</th>\n",
       "      <th>Volume</th>\n",
       "    </tr>\n",
       "    <tr>\n",
       "      <th>Date</th>\n",
       "      <th></th>\n",
       "      <th></th>\n",
       "      <th></th>\n",
       "      <th></th>\n",
       "      <th></th>\n",
       "      <th></th>\n",
       "    </tr>\n",
       "  </thead>\n",
       "  <tbody>\n",
       "    <tr>\n",
       "      <th>2023-01-03</th>\n",
       "      <td>130.279999</td>\n",
       "      <td>130.899994</td>\n",
       "      <td>124.169998</td>\n",
       "      <td>125.070000</td>\n",
       "      <td>123.904617</td>\n",
       "      <td>112117500</td>\n",
       "    </tr>\n",
       "    <tr>\n",
       "      <th>2023-01-04</th>\n",
       "      <td>126.889999</td>\n",
       "      <td>128.660004</td>\n",
       "      <td>125.080002</td>\n",
       "      <td>126.360001</td>\n",
       "      <td>125.182610</td>\n",
       "      <td>89113600</td>\n",
       "    </tr>\n",
       "    <tr>\n",
       "      <th>2023-01-05</th>\n",
       "      <td>127.129997</td>\n",
       "      <td>127.769997</td>\n",
       "      <td>124.760002</td>\n",
       "      <td>125.019997</td>\n",
       "      <td>123.855095</td>\n",
       "      <td>80962700</td>\n",
       "    </tr>\n",
       "    <tr>\n",
       "      <th>2023-01-06</th>\n",
       "      <td>126.010002</td>\n",
       "      <td>130.289993</td>\n",
       "      <td>124.889999</td>\n",
       "      <td>129.619995</td>\n",
       "      <td>128.412231</td>\n",
       "      <td>87754700</td>\n",
       "    </tr>\n",
       "    <tr>\n",
       "      <th>2023-01-09</th>\n",
       "      <td>130.470001</td>\n",
       "      <td>133.410004</td>\n",
       "      <td>129.889999</td>\n",
       "      <td>130.149994</td>\n",
       "      <td>128.937302</td>\n",
       "      <td>70790800</td>\n",
       "    </tr>\n",
       "    <tr>\n",
       "      <th>...</th>\n",
       "      <td>...</td>\n",
       "      <td>...</td>\n",
       "      <td>...</td>\n",
       "      <td>...</td>\n",
       "      <td>...</td>\n",
       "      <td>...</td>\n",
       "    </tr>\n",
       "    <tr>\n",
       "      <th>2023-12-22</th>\n",
       "      <td>195.179993</td>\n",
       "      <td>195.410004</td>\n",
       "      <td>192.970001</td>\n",
       "      <td>193.600006</td>\n",
       "      <td>192.868149</td>\n",
       "      <td>37122800</td>\n",
       "    </tr>\n",
       "    <tr>\n",
       "      <th>2023-12-26</th>\n",
       "      <td>193.610001</td>\n",
       "      <td>193.889999</td>\n",
       "      <td>192.830002</td>\n",
       "      <td>193.050003</td>\n",
       "      <td>192.320221</td>\n",
       "      <td>28919300</td>\n",
       "    </tr>\n",
       "    <tr>\n",
       "      <th>2023-12-27</th>\n",
       "      <td>192.490005</td>\n",
       "      <td>193.500000</td>\n",
       "      <td>191.089996</td>\n",
       "      <td>193.149994</td>\n",
       "      <td>192.419830</td>\n",
       "      <td>48087700</td>\n",
       "    </tr>\n",
       "    <tr>\n",
       "      <th>2023-12-28</th>\n",
       "      <td>194.139999</td>\n",
       "      <td>194.660004</td>\n",
       "      <td>193.169998</td>\n",
       "      <td>193.580002</td>\n",
       "      <td>192.848206</td>\n",
       "      <td>34049900</td>\n",
       "    </tr>\n",
       "    <tr>\n",
       "      <th>2023-12-29</th>\n",
       "      <td>193.899994</td>\n",
       "      <td>194.399994</td>\n",
       "      <td>191.729996</td>\n",
       "      <td>192.529999</td>\n",
       "      <td>191.802185</td>\n",
       "      <td>42628800</td>\n",
       "    </tr>\n",
       "  </tbody>\n",
       "</table>\n",
       "<p>250 rows × 6 columns</p>\n",
       "</div>"
      ],
      "text/plain": [
       "                  Open        High         Low       Close   Adj Close  \\\n",
       "Date                                                                     \n",
       "2023-01-03  130.279999  130.899994  124.169998  125.070000  123.904617   \n",
       "2023-01-04  126.889999  128.660004  125.080002  126.360001  125.182610   \n",
       "2023-01-05  127.129997  127.769997  124.760002  125.019997  123.855095   \n",
       "2023-01-06  126.010002  130.289993  124.889999  129.619995  128.412231   \n",
       "2023-01-09  130.470001  133.410004  129.889999  130.149994  128.937302   \n",
       "...                ...         ...         ...         ...         ...   \n",
       "2023-12-22  195.179993  195.410004  192.970001  193.600006  192.868149   \n",
       "2023-12-26  193.610001  193.889999  192.830002  193.050003  192.320221   \n",
       "2023-12-27  192.490005  193.500000  191.089996  193.149994  192.419830   \n",
       "2023-12-28  194.139999  194.660004  193.169998  193.580002  192.848206   \n",
       "2023-12-29  193.899994  194.399994  191.729996  192.529999  191.802185   \n",
       "\n",
       "               Volume  \n",
       "Date                   \n",
       "2023-01-03  112117500  \n",
       "2023-01-04   89113600  \n",
       "2023-01-05   80962700  \n",
       "2023-01-06   87754700  \n",
       "2023-01-09   70790800  \n",
       "...               ...  \n",
       "2023-12-22   37122800  \n",
       "2023-12-26   28919300  \n",
       "2023-12-27   48087700  \n",
       "2023-12-28   34049900  \n",
       "2023-12-29   42628800  \n",
       "\n",
       "[250 rows x 6 columns]"
      ]
     },
     "execution_count": 12,
     "metadata": {},
     "output_type": "execute_result"
    }
   ],
   "source": [
    "stock_data = yf.download('AAPL', start='2023-01-01', end='2023-12-31')\n",
    "\n",
    "stock_data"
   ]
  },
  {
   "cell_type": "markdown",
   "metadata": {},
   "source": [
    "## Calculate Historic Volatility of Stock Data"
   ]
  },
  {
   "cell_type": "code",
   "execution_count": 13,
   "metadata": {},
   "outputs": [
    {
     "name": "stdout",
     "output_type": "stream",
     "text": [
      "Historical Volatility: 19.95%\n"
     ]
    }
   ],
   "source": [
    "stock_data['Daily Return'] = stock_data['Adj Close'].pct_change()\n",
    "historical_volatility = stock_data['Daily Return'].std() * np.sqrt(252)\n",
    "\n",
    "print(f\"Historical Volatility: {historical_volatility:.2%}\")"
   ]
  },
  {
   "cell_type": "markdown",
   "metadata": {},
   "source": [
    "## Calculate Option Prices for Different Scenarios"
   ]
  },
  {
   "cell_type": "code",
   "execution_count": 18,
   "metadata": {},
   "outputs": [],
   "source": [
    "strikes = np.arange(80, 121, 5)\n",
    "maturities = np.arange(0.1, 2.1, 0.5)\n",
    "\n",
    "option_prices = []\n",
    "for K in strikes:\n",
    "    for T in maturities:\n",
    "        price = black_scholes_call(S, K, T, r, historical_volatility)\n",
    "        option_prices.append({'Strike': K, 'Maturity': T, 'Call Price': price})\n",
    "\n",
    "df = pd.DataFrame(option_prices)"
   ]
  },
  {
   "cell_type": "code",
   "execution_count": 20,
   "metadata": {},
   "outputs": [
    {
     "data": {
      "text/html": [
       "<div>\n",
       "<style scoped>\n",
       "    .dataframe tbody tr th:only-of-type {\n",
       "        vertical-align: middle;\n",
       "    }\n",
       "\n",
       "    .dataframe tbody tr th {\n",
       "        vertical-align: top;\n",
       "    }\n",
       "\n",
       "    .dataframe thead th {\n",
       "        text-align: right;\n",
       "    }\n",
       "</style>\n",
       "<table border=\"1\" class=\"dataframe\">\n",
       "  <thead>\n",
       "    <tr style=\"text-align: right;\">\n",
       "      <th></th>\n",
       "      <th>Strike</th>\n",
       "      <th>Maturity</th>\n",
       "      <th>Call Price</th>\n",
       "    </tr>\n",
       "  </thead>\n",
       "  <tbody>\n",
       "    <tr>\n",
       "      <th>0</th>\n",
       "      <td>80</td>\n",
       "      <td>0.1</td>\n",
       "      <td>20.399208</td>\n",
       "    </tr>\n",
       "    <tr>\n",
       "      <th>1</th>\n",
       "      <td>80</td>\n",
       "      <td>0.6</td>\n",
       "      <td>22.653113</td>\n",
       "    </tr>\n",
       "    <tr>\n",
       "      <th>2</th>\n",
       "      <td>80</td>\n",
       "      <td>1.1</td>\n",
       "      <td>25.057457</td>\n",
       "    </tr>\n",
       "    <tr>\n",
       "      <th>3</th>\n",
       "      <td>80</td>\n",
       "      <td>1.6</td>\n",
       "      <td>27.358538</td>\n",
       "    </tr>\n",
       "    <tr>\n",
       "      <th>4</th>\n",
       "      <td>85</td>\n",
       "      <td>0.1</td>\n",
       "      <td>15.431063</td>\n",
       "    </tr>\n",
       "  </tbody>\n",
       "</table>\n",
       "</div>"
      ],
      "text/plain": [
       "   Strike  Maturity  Call Price\n",
       "0      80       0.1   20.399208\n",
       "1      80       0.6   22.653113\n",
       "2      80       1.1   25.057457\n",
       "3      80       1.6   27.358538\n",
       "4      85       0.1   15.431063"
      ]
     },
     "execution_count": 20,
     "metadata": {},
     "output_type": "execute_result"
    }
   ],
   "source": [
    "df.head(5)"
   ]
  },
  {
   "cell_type": "markdown",
   "metadata": {},
   "source": [
    "# Visualise Results"
   ]
  },
  {
   "cell_type": "code",
   "execution_count": 21,
   "metadata": {},
   "outputs": [
    {
     "data": {
      "image/png": "[encoded data removed]",
      "text/plain": [
       "<Figure size 640x480 with 1 Axes>"
      ]
     },
     "metadata": {},
     "output_type": "display_data"
    }
   ],
   "source": [
    "for T in maturities:\n",
    "    df_maturity = df[df['Maturity'] == T]\n",
    "    plt.plot(df_maturity['Strike'], df_maturity['Call Price'], label=f'T = {T:.1f}')\n",
    "\n",
    "plt.title('Black-Scholes Call Option Prices')\n",
    "plt.xlabel('Strike Price')\n",
    "plt.ylabel('Call Option Price')\n",
    "plt.legend()\n",
    "plt.grid(True)\n",
    "plt.show()"
   ]
  }
 ],
 "metadata": {
  "kernelspec": {
   "display_name": "black-scholes-qmy_qRrL",
   "language": "python",
   "name": "python3"
  },
  "language_info": {
   "codemirror_mode": {
    "name": "ipython",
    "version": 3
   },
   "file_extension": ".py",
   "mimetype": "text/x-python",
   "name": "python",
   "nbconvert_exporter": "python",
   "pygments_lexer": "ipython3",
   "version": "3.10.12"
  }
 },
 "nbformat": 4,
 "nbformat_minor": 2
}
